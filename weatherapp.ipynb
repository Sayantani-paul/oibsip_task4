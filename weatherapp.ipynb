{
 "cells": [
  {
   "cell_type": "code",
   "execution_count": 17,
   "id": "eda5dc0d",
   "metadata": {},
   "outputs": [
    {
     "name": "stdout",
     "output_type": "stream",
     "text": [
      "City name: Kolkata\n",
      "Temperature: 31.97 °C\n",
      "Description: haze\n",
      "Pressure: 1011\n",
      "Humidity: 62%\n"
     ]
    }
   ],
   "source": [
    "import requests\n",
    "\n",
    "api_key = '6b421f69e16104aea934379269a3acef'\n",
    "city = input('City name: ')\n",
    "url = f'http://api.openweathermap.org/data/2.5/weather?q={city}&appid={api_key}'\n",
    "response = requests.get(url)\n",
    "if response.status_code == 200:\n",
    "    data = response.json()\n",
    "    temp = data['main']['temp']-273.15\n",
    "    humid = data['main']['humidity']\n",
    "    pressure = data['main']['pressure']\n",
    "    desc = data['weather'][0]['description']\n",
    "    print(f'Temperature: {temp:.2f} °C')\n",
    "    print(f'Description: {desc}')\n",
    "    print(f'Pressure: {pressure}')\n",
    "    print(f'Humidity: {humid}%')    \n",
    "else:\n",
    "    print('Error fetching weather data')"
   ]
  }
 ],
 "metadata": {
  "kernelspec": {
   "display_name": "Python 3",
   "language": "python",
   "name": "python3"
  },
  "language_info": {
   "codemirror_mode": {
    "name": "ipython",
    "version": 3
   },
   "file_extension": ".py",
   "mimetype": "text/x-python",
   "name": "python",
   "nbconvert_exporter": "python",
   "pygments_lexer": "ipython3",
   "version": "3.8.8"
  }
 },
 "nbformat": 4,
 "nbformat_minor": 5
}
